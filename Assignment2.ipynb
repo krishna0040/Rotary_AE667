{
 "cells": [
  {
   "cell_type": "code",
   "execution_count": 1,
   "metadata": {},
   "outputs": [],
   "source": [
    "from _ROTOR import rotor \n",
    "from _MISSION_PLANNER import MissionPlanner\n",
    "import numpy as np\n",
    "import matplotlib.pyplot as plt "
   ]
  },
  {
   "cell_type": "code",
   "execution_count": 6,
   "metadata": {},
   "outputs": [],
   "source": [
    "x = rotor()\n",
    "x.set_rotor(5,0.5,3,0.8,0,twist0=np.deg2rad(5),twist_slope=0,omega=30)\n",
    "lambdas,v,sigma,twist, thrust ,dT,Fs,d_torque, torque = x.bemt(V=5)\n"
   ]
  },
  {
   "cell_type": "code",
   "execution_count": null,
   "metadata": {},
   "outputs": [
    {
     "data": {
      "text/plain": [
       "(275.15, 94218.07928359076, 1.154950429497074, 332.5274883374305)"
      ]
     },
     "execution_count": 25,
     "metadata": {},
     "output_type": "execute_result"
    }
   ],
   "source": [
    "import numpy as np\n",
    "# Create rotor instance\n",
    "x = rotor()\n",
    "radius=  4\n",
    "root_cut_out = 0.8\n",
    "# Set more realistic rotor parameters\n",
    "x.set_rotor(\n",
    "    radius=radius,        # m\n",
    "    root_cut_out=root_cut_out,  # m\n",
    "    chord0=0.25,       # m, smaller chord for realistic solidity\n",
    "    chord_slope= (0.1-0.25)/(radius-root_cut_out),\n",
    "    blades=3,\n",
    "    omega=25,           # rad/s (~238 RPM\n",
    "    twist0= np.deg2rad(3),\n",
    "    twist_slope= np.deg2rad(1-3)/(radius-root_cut_out)\n",
    ")\n",
    "x.atmosphere(h=2000)"
   ]
  },
  {
   "cell_type": "code",
   "execution_count": 26,
   "metadata": {},
   "outputs": [
    {
     "name": "stdout",
     "output_type": "stream",
     "text": [
      "FZ (Thrust) [N]: 43259.80642271439\n",
      "FX (Forward) [N]: 94332.3569711001\n",
      "FY (Lateral) [N]: 5195.928259166494\n",
      "beta0 [rad]: 0.017453292519943295\n",
      "beta1c [rad]: -0.034392305025982464\n",
      "beta1s [rad]: -0.08400120948322674\n",
      "CT (Rotor Thrust Coefficient): 0.02483877176865653\n"
     ]
    }
   ],
   "source": [
    "# Forward flight conditions\n",
    "forward_speed = 55.55  # m/s\n",
    "theta0 = np.deg2rad(8)\n",
    "theta1c = np.deg2rad(5)\n",
    "theta1s = np.deg2rad(0)\n",
    "alpha_tpp = np.deg2rad(3)\n",
    "\n",
    "# Compute forces and flapping angles\n",
    "forces_moments, R_grid, PSI_grid, alpha, dT, dH, dY = x.forward(\n",
    "    forward_speed=forward_speed,\n",
    "    theta0=theta0,\n",
    "    theta1c=theta1c,\n",
    "    theta1s=theta1s,\n",
    "    alpha_tpp=alpha_tpp\n",
    ")\n",
    "\n",
    "# Print relevant outputs\n",
    "print(\"FZ (Thrust) [N]:\", forces_moments['FZ'])\n",
    "print(\"FX (Forward) [N]:\", forces_moments['FX'])\n",
    "print(\"FY (Lateral) [N]:\", forces_moments['FY'])\n",
    "print(\"beta0 [rad]:\", forces_moments['beta0'])\n",
    "print(\"beta1c [rad]:\", forces_moments['beta1c'])\n",
    "print(\"beta1s [rad]:\", forces_moments['beta1s'])\n",
    "print(\"CT (Rotor Thrust Coefficient):\", forces_moments.get('CT', 'Not computed'))"
   ]
  }
 ],
 "metadata": {
  "kernelspec": {
   "display_name": "base",
   "language": "python",
   "name": "python3"
  },
  "language_info": {
   "codemirror_mode": {
    "name": "ipython",
    "version": 3
   },
   "file_extension": ".py",
   "mimetype": "text/x-python",
   "name": "python",
   "nbconvert_exporter": "python",
   "pygments_lexer": "ipython3",
   "version": "3.12.9"
  }
 },
 "nbformat": 4,
 "nbformat_minor": 2
}
